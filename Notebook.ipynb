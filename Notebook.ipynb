{
  "metadata": {
    "language_info": {
      "name": "python",
      "version": "3.7.8",
      "mimetype": "text/x-python",
      "codemirror_mode": {
        "name": "ipython",
        "version": 3
      },
      "pygments_lexer": "ipython3",
      "nbconvert_exporter": "python",
      "file_extension": ".py"
    },
    "kernelspec": {
      "name": "python3",
      "display_name": "Python 3",
      "language": "python"
    },
    "colab": {
      "name": "Notebook.ipynb",
      "provenance": []
    }
  },
  "nbformat_minor": 5,
  "nbformat": 4,
  "cells": [
    {
      "cell_type": "code",
      "source": [
        ""
      ],
      "metadata": {
        "id": "tjy4s8ZejnRt"
      },
      "id": "tjy4s8ZejnRt",
      "execution_count": null,
      "outputs": []
    },
    {
      "cell_type": "markdown",
      "source": [
        "DAT TYPES AND VARIABLES"
      ],
      "metadata": {
        "id": "SFNmSqFPjoKM"
      },
      "id": "SFNmSqFPjoKM"
    },
    {
      "cell_type": "code",
      "source": [
        ""
      ],
      "metadata": {
        "id": "OnGVQ-RCjtz2"
      },
      "id": "OnGVQ-RCjtz2",
      "execution_count": null,
      "outputs": []
    },
    {
      "cell_type": "code",
      "source": [
        "first = \"Hi\""
      ],
      "metadata": {
        "id": "7vBys-spjuPM"
      },
      "id": "7vBys-spjuPM",
      "execution_count": null,
      "outputs": []
    },
    {
      "cell_type": "code",
      "source": [
        "first"
      ],
      "metadata": {
        "id": "s4nfBkp_jzvQ",
        "outputId": "8b79d9dc-60b8-4c95-af79-349f825c1eb7",
        "colab": {
          "base_uri": "https://localhost:8080/",
          "height": 166
        }
      },
      "id": "s4nfBkp_jzvQ",
      "execution_count": 1,
      "outputs": [
        {
          "output_type": "error",
          "ename": "NameError",
          "evalue": "ignored",
          "traceback": [
            "\u001b[0;31m---------------------------------------------------------------------------\u001b[0m",
            "\u001b[0;31mNameError\u001b[0m                                 Traceback (most recent call last)",
            "\u001b[0;32m<ipython-input-1-271ac93c44ac>\u001b[0m in \u001b[0;36m<module>\u001b[0;34m()\u001b[0m\n\u001b[0;32m----> 1\u001b[0;31m \u001b[0mfirst\u001b[0m\u001b[0;34m\u001b[0m\u001b[0;34m\u001b[0m\u001b[0m\n\u001b[0m",
            "\u001b[0;31mNameError\u001b[0m: name 'first' is not defined"
          ]
        }
      ]
    },
    {
      "cell_type": "code",
      "source": [
        "first = \"hi\"\n",
        "first"
      ],
      "metadata": {
        "id": "5pnNqTqTj4uf",
        "outputId": "dc3f020a-d7a4-4c02-badd-4d3eb80fccd0",
        "colab": {
          "base_uri": "https://localhost:8080/",
          "height": 35
        }
      },
      "id": "5pnNqTqTj4uf",
      "execution_count": 2,
      "outputs": [
        {
          "output_type": "execute_result",
          "data": {
            "text/plain": [
              "'hi'"
            ],
            "application/vnd.google.colaboratory.intrinsic+json": {
              "type": "string"
            }
          },
          "metadata": {},
          "execution_count": 2
        }
      ]
    },
    {
      "cell_type": "code",
      "source": [
        "sum = (23+2)/4\n",
        "sum\n",
        "sum = sum+10"
      ],
      "metadata": {
        "id": "kxo_lp5mkMcB"
      },
      "id": "kxo_lp5mkMcB",
      "execution_count": 4,
      "outputs": []
    },
    {
      "cell_type": "code",
      "source": [
        "sum"
      ],
      "metadata": {
        "id": "IPXIsCaIkcK8",
        "outputId": "4a4fbe93-b279-4dd9-9a50-81c565294852",
        "colab": {
          "base_uri": "https://localhost:8080/"
        }
      },
      "id": "IPXIsCaIkcK8",
      "execution_count": 5,
      "outputs": [
        {
          "output_type": "execute_result",
          "data": {
            "text/plain": [
              "16.25"
            ]
          },
          "metadata": {},
          "execution_count": 5
        }
      ]
    },
    {
      "cell_type": "code",
      "source": [
        ""
      ],
      "metadata": {
        "id": "CySRqygqkdoD"
      },
      "id": "CySRqygqkdoD",
      "execution_count": null,
      "outputs": []
    },
    {
      "cell_type": "markdown",
      "source": [
        "LISTS\n"
      ],
      "metadata": {
        "id": "PtqOmgagkf0Y"
      },
      "id": "PtqOmgagkf0Y"
    },
    {
      "cell_type": "code",
      "source": [
        ""
      ],
      "metadata": {
        "id": "ItVjZ8A5khOW"
      },
      "id": "ItVjZ8A5khOW",
      "execution_count": null,
      "outputs": []
    },
    {
      "cell_type": "code",
      "source": [
        "whole_numbers = [0,1,2,3,4,]"
      ],
      "metadata": {
        "id": "AMtJ4vnXkhyv"
      },
      "id": "AMtJ4vnXkhyv",
      "execution_count": 6,
      "outputs": []
    },
    {
      "cell_type": "code",
      "source": [
        "len(whole_numbers)"
      ],
      "metadata": {
        "id": "6rwPNvXCkn5X",
        "outputId": "276ee95f-3508-48c5-f777-cc752c766457",
        "colab": {
          "base_uri": "https://localhost:8080/"
        }
      },
      "id": "6rwPNvXCkn5X",
      "execution_count": 7,
      "outputs": [
        {
          "output_type": "execute_result",
          "data": {
            "text/plain": [
              "5"
            ]
          },
          "metadata": {},
          "execution_count": 7
        }
      ]
    },
    {
      "cell_type": "code",
      "source": [
        "names =[\"aravind\", \"mallesh\", \"sai\"]"
      ],
      "metadata": {
        "id": "AXZMop39ksUf"
      },
      "id": "AXZMop39ksUf",
      "execution_count": 16,
      "outputs": []
    },
    {
      "cell_type": "code",
      "source": [
        "names"
      ],
      "metadata": {
        "id": "_cisQEpPk3Ak",
        "outputId": "b8e64cab-1794-4098-f5d8-c42cfa1d6449",
        "colab": {
          "base_uri": "https://localhost:8080/"
        }
      },
      "id": "_cisQEpPk3Ak",
      "execution_count": 17,
      "outputs": [
        {
          "output_type": "execute_result",
          "data": {
            "text/plain": [
              "['aravind', 'mallesh', 'sai']"
            ]
          },
          "metadata": {},
          "execution_count": 17
        }
      ]
    },
    {
      "cell_type": "code",
      "source": [
        "names[2]"
      ],
      "metadata": {
        "id": "v1Lon22blszP",
        "outputId": "80010858-c3fc-40f2-b43b-b4bb645aff08",
        "colab": {
          "base_uri": "https://localhost:8080/",
          "height": 35
        }
      },
      "id": "v1Lon22blszP",
      "execution_count": 19,
      "outputs": [
        {
          "output_type": "execute_result",
          "data": {
            "text/plain": [
              "'sai'"
            ],
            "application/vnd.google.colaboratory.intrinsic+json": {
              "type": "string"
            }
          },
          "metadata": {},
          "execution_count": 19
        }
      ]
    },
    {
      "cell_type": "code",
      "source": [
        "names[0]"
      ],
      "metadata": {
        "id": "FGsbgLhUmI6p",
        "outputId": "bc0d289e-e4a1-4a0b-86a6-cb766f39e00e",
        "colab": {
          "base_uri": "https://localhost:8080/",
          "height": 35
        }
      },
      "id": "FGsbgLhUmI6p",
      "execution_count": 20,
      "outputs": [
        {
          "output_type": "execute_result",
          "data": {
            "text/plain": [
              "'aravind'"
            ],
            "application/vnd.google.colaboratory.intrinsic+json": {
              "type": "string"
            }
          },
          "metadata": {},
          "execution_count": 20
        }
      ]
    },
    {
      "cell_type": "code",
      "source": [
        ""
      ],
      "metadata": {
        "id": "az8NhqZ7mMBq"
      },
      "id": "az8NhqZ7mMBq",
      "execution_count": null,
      "outputs": []
    },
    {
      "cell_type": "markdown",
      "source": [
        "dictionary"
      ],
      "metadata": {
        "id": "eJl7u3XSmUeE"
      },
      "id": "eJl7u3XSmUeE"
    },
    {
      "cell_type": "code",
      "source": [
        ""
      ],
      "metadata": {
        "id": "RCcfhBcYmhSA"
      },
      "id": "RCcfhBcYmhSA",
      "execution_count": null,
      "outputs": []
    },
    {
      "cell_type": "code",
      "source": [
        "menu = {\n",
        "    \"samosa\" : 25,\n",
        "    \"dosa\" : 40,\n",
        "     \"juice\" : 35\n",
        "}"
      ],
      "metadata": {
        "id": "hbsBuwWcmiH-"
      },
      "id": "hbsBuwWcmiH-",
      "execution_count": 23,
      "outputs": []
    },
    {
      "cell_type": "code",
      "source": [
        "menu[\"dosa\"]"
      ],
      "metadata": {
        "id": "GlpKv1d_myDR",
        "outputId": "a05fbfbc-9106-4fb5-bebd-3d71ea7dfc91",
        "colab": {
          "base_uri": "https://localhost:8080/"
        }
      },
      "id": "GlpKv1d_myDR",
      "execution_count": 24,
      "outputs": [
        {
          "output_type": "execute_result",
          "data": {
            "text/plain": [
              "40"
            ]
          },
          "metadata": {},
          "execution_count": 24
        }
      ]
    },
    {
      "cell_type": "code",
      "source": [
        ""
      ],
      "metadata": {
        "id": "5EBUAsi0nI02"
      },
      "id": "5EBUAsi0nI02",
      "execution_count": null,
      "outputs": []
    },
    {
      "cell_type": "markdown",
      "source": [
        "OPERATORS"
      ],
      "metadata": {
        "id": "ao6rW_pWnNqb"
      },
      "id": "ao6rW_pWnNqb"
    },
    {
      "cell_type": "code",
      "source": [
        "1+1"
      ],
      "metadata": {
        "id": "EhJ3BwxcnPYW",
        "outputId": "73923b1a-9131-4de4-8722-eec8377d6a8a",
        "colab": {
          "base_uri": "https://localhost:8080/"
        }
      },
      "id": "EhJ3BwxcnPYW",
      "execution_count": 25,
      "outputs": [
        {
          "output_type": "execute_result",
          "data": {
            "text/plain": [
              "2"
            ]
          },
          "metadata": {},
          "execution_count": 25
        }
      ]
    },
    {
      "cell_type": "code",
      "source": [
        "5==5"
      ],
      "metadata": {
        "id": "mei-CVbRnVWO",
        "outputId": "a4a21858-598d-4143-cd93-78b4092f1c9f",
        "colab": {
          "base_uri": "https://localhost:8080/"
        }
      },
      "id": "mei-CVbRnVWO",
      "execution_count": 27,
      "outputs": [
        {
          "output_type": "execute_result",
          "data": {
            "text/plain": [
              "True"
            ]
          },
          "metadata": {},
          "execution_count": 27
        }
      ]
    },
    {
      "cell_type": "code",
      "source": [
        "5!=23"
      ],
      "metadata": {
        "id": "BJT39JhGnb3a",
        "outputId": "64ef3ca3-62ea-4e27-a65b-b1c1759b5d6a",
        "colab": {
          "base_uri": "https://localhost:8080/"
        }
      },
      "id": "BJT39JhGnb3a",
      "execution_count": 28,
      "outputs": [
        {
          "output_type": "execute_result",
          "data": {
            "text/plain": [
              "True"
            ]
          },
          "metadata": {},
          "execution_count": 28
        }
      ]
    },
    {
      "cell_type": "code",
      "source": [
        "\"ArAvind\" == \"aravind\""
      ],
      "metadata": {
        "id": "MEXHtuGDnerL",
        "outputId": "4d663439-624a-4ac1-e71c-5303b4bb3b76",
        "colab": {
          "base_uri": "https://localhost:8080/"
        }
      },
      "id": "MEXHtuGDnerL",
      "execution_count": 29,
      "outputs": [
        {
          "output_type": "execute_result",
          "data": {
            "text/plain": [
              "False"
            ]
          },
          "metadata": {},
          "execution_count": 29
        }
      ]
    },
    {
      "cell_type": "code",
      "source": [
        "\"ARAvind\" == \"ARAvind\""
      ],
      "metadata": {
        "id": "fwgETJ1lnk9z",
        "outputId": "b956c7ba-4265-499e-de16-91754d0372ea",
        "colab": {
          "base_uri": "https://localhost:8080/"
        }
      },
      "id": "fwgETJ1lnk9z",
      "execution_count": 30,
      "outputs": [
        {
          "output_type": "execute_result",
          "data": {
            "text/plain": [
              "True"
            ]
          },
          "metadata": {},
          "execution_count": 30
        }
      ]
    },
    {
      "cell_type": "code",
      "source": [
        ""
      ],
      "metadata": {
        "id": "4JJSiRWLnp4O"
      },
      "id": "4JJSiRWLnp4O",
      "execution_count": null,
      "outputs": []
    },
    {
      "cell_type": "markdown",
      "source": [
        "FUNCTIONS"
      ],
      "metadata": {
        "id": "OJWE8tuBnvml"
      },
      "id": "OJWE8tuBnvml"
    },
    {
      "cell_type": "code",
      "source": [
        "def convert_to_fahrenheit(celsiusTemp):\n",
        "    product = celsiusTemp * 1.8\n",
        "    final = product + 32\n",
        "    return final"
      ],
      "metadata": {
        "id": "SBY_woIOnxP4"
      },
      "id": "SBY_woIOnxP4",
      "execution_count": 34,
      "outputs": []
    },
    {
      "cell_type": "code",
      "source": [
        "convert_to_fahrenheit(50)"
      ],
      "metadata": {
        "id": "C0IT2zI2ojZz",
        "outputId": "4936cacd-8ed1-44db-cee8-3e5eccaee123",
        "colab": {
          "base_uri": "https://localhost:8080/"
        }
      },
      "id": "C0IT2zI2ojZz",
      "execution_count": 32,
      "outputs": [
        {
          "output_type": "execute_result",
          "data": {
            "text/plain": [
              "122.0"
            ]
          },
          "metadata": {},
          "execution_count": 32
        }
      ]
    },
    {
      "cell_type": "code",
      "source": [
        ""
      ],
      "metadata": {
        "id": "grBEbBrDooBE"
      },
      "id": "grBEbBrDooBE",
      "execution_count": null,
      "outputs": []
    }
  ]
}